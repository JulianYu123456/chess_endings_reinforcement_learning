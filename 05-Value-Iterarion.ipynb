{
 "cells": [
  {
   "cell_type": "code",
   "execution_count": 10,
   "metadata": {},
   "outputs": [
    {
     "name": "stdout",
     "output_type": "stream",
     "text": [
      "The autoreload extension is already loaded. To reload it, use:\n",
      "  %reload_ext autoreload\n"
     ]
    }
   ],
   "source": [
    "%load_ext autoreload\n",
    "%autoreload 2"
   ]
  },
  {
   "cell_type": "raw",
   "metadata": {},
   "source": [
    "\"A disadvantage of value iteration w.r.t. policy iteration is that when using the latter, if you get two consecutive iterations with the same policy, you've converged to the optimum policy. With value iteration, however, you can't be sure (w/o a lot of extra work, and often not even then) that even the tiniest error in the final 𝑈𝑖 wouldn't be enough to push you into a different policy choice. Nonetheless, if you want a solution that's guaranteed within 𝜖 of optimum, use that value in the program.\""
   ]
  },
  {
   "cell_type": "markdown",
   "metadata": {},
   "source": [
    "# Value Iteration"
   ]
  },
  {
   "cell_type": "code",
   "execution_count": 11,
   "metadata": {},
   "outputs": [],
   "source": [
    "def get_deterministic_policy(states):\n",
    "    pi = {}\n",
    "    for state, value in states.items():\n",
    "        pi[state] = list(value.keys())[0]\n",
    "    return pi"
   ]
  },
  {
   "cell_type": "code",
   "execution_count": 12,
   "metadata": {},
   "outputs": [],
   "source": [
    "from MDP_chess import policy_improve_shortest_path\n",
    "import numpy as np"
   ]
  },
  {
   "cell_type": "code",
   "execution_count": 13,
   "metadata": {},
   "outputs": [],
   "source": [
    "def value_iteration(states_actions, theta=1e-10, winning_reward=1e3):\n",
    "    V = {}\n",
    "    iters = 0\n",
    "    for state in states_actions:\n",
    "        V[state] = 0\n",
    "    delta = theta + 1\n",
    "    iterat = 0\n",
    "    N = len(states_actions)\n",
    "    while theta<delta: \n",
    "        suma = 0\n",
    "        delta = 0\n",
    "        for state, actions in states_actions.items():\n",
    "            expected_rewards = []\n",
    "            for action in actions:\n",
    "                next_node = actions[action]['next_state']\n",
    "                reward = actions[action]['status'] * winning_reward\n",
    "                if next_node in V:\n",
    "                    expected_rewards.append(-(reward + V[next_node]) - np.sign(-V[next_node]))\n",
    "                else:\n",
    "                    expected_rewards.append(-reward)\n",
    "            V_updated = max(expected_rewards)\n",
    "            suma = suma + np.abs(V_updated - V[state])\n",
    "            delta = max(delta, np.abs(V_updated - V[state]))\n",
    "            V[state] = V_updated\n",
    "        iterat += 1\n",
    "        print(iterat, delta, suma/N)\n",
    "    return V, delta"
   ]
  },
  {
   "cell_type": "markdown",
   "metadata": {},
   "source": [
    "# Rook endgame"
   ]
  },
  {
   "cell_type": "code",
   "execution_count": 35,
   "metadata": {},
   "outputs": [
    {
     "data": {
      "text/plain": [
       "398780"
      ]
     },
     "execution_count": 35,
     "metadata": {},
     "output_type": "execute_result"
    }
   ],
   "source": [
    "import shelve\n",
    "filename='./data/rook_states_tree/states'\n",
    "states = shelve.open(filename, flag='r')\n",
    "len(states)"
   ]
  },
  {
   "cell_type": "code",
   "execution_count": 30,
   "metadata": {},
   "outputs": [
    {
     "name": "stdout",
     "output_type": "stream",
     "text": [
      "1 1000.0 4.17970810973469\n",
      "2 999.0 7.591551732784994\n",
      "3 998.0 12.473110486985306\n",
      "4 997.0 8.636448668438739\n",
      "5 996.0 7.598066603139576\n",
      "6 995.0 13.587827875018807\n",
      "7 994.0 24.948267215005767\n",
      "8 993.0 33.33779026029389\n",
      "9 992.0 44.633253924469635\n",
      "10 991.0 50.75919554641657\n",
      "11 990.0 58.45572496113145\n",
      "12 988.0 67.39033301569788\n",
      "13 986.0 76.31656803249912\n",
      "14 985.0 89.0842394302623\n",
      "15 984.0 99.40709413711821\n",
      "16 982.0 100.57818847484829\n",
      "17 981.0 93.3030292391795\n",
      "18 980.0 71.0916244545865\n",
      "19 978.0 40.815284116555496\n",
      "20 976.0 16.711555243492654\n",
      "21 974.0 4.1677942725312205\n",
      "22 973.0 0.39699332965544915\n",
      "23 971.0 0.010687597171372687\n",
      "24 2.0 1.0030593309594262e-05\n",
      "25 0 0.0\n",
      "CPU times: user 6min 30s, sys: 32.3 s, total: 7min 2s\n",
      "Wall time: 7min 2s\n"
     ]
    }
   ],
   "source": [
    "%time V, delta = value_iteration(states)"
   ]
  },
  {
   "cell_type": "code",
   "execution_count": 33,
   "metadata": {},
   "outputs": [
    {
     "name": "stdout",
     "output_type": "stream",
     "text": [
      "h6h8\n",
      "['h6h8', 'h6h7', 'h6g6', 'h6f6', 'h6h5', 'h6h4', 'h6h3', 'h6h2', 'h6h1', 'e6f6', 'e6d6', 'e6f5', 'e6e5', 'e6d5']\n",
      "[1000.0, 990.0, 990.0, 990.0, 996.0, 996.0, 996.0, 996.0, 996.0, 984.0, 986.0, 982.0, 982.0, 982.0]\n",
      "CPU times: user 18 s, sys: 1.55 s, total: 19.6 s\n",
      "Wall time: 19.6 s\n"
     ]
    }
   ],
   "source": [
    "%time pi = policy_improve_shortest_path(V, states)"
   ]
  },
  {
   "cell_type": "code",
   "execution_count": 34,
   "metadata": {},
   "outputs": [],
   "source": [
    "np.save('PI_rook_endgame_value_iter', pi)\n",
    "np.save('V_rook_endgame_value_iter', V)"
   ]
  },
  {
   "cell_type": "markdown",
   "metadata": {},
   "source": [
    "# Pawn endgame"
   ]
  },
  {
   "cell_type": "code",
   "execution_count": 36,
   "metadata": {},
   "outputs": [
    {
     "data": {
      "text/plain": [
       "807232"
      ]
     },
     "execution_count": 36,
     "metadata": {},
     "output_type": "execute_result"
    }
   ],
   "source": [
    "import shelve\n",
    "filename='./data/pawn_states_tree/states'\n",
    "states = shelve.open(filename, flag='r')\n",
    "len(states)"
   ]
  },
  {
   "cell_type": "code",
   "execution_count": 37,
   "metadata": {},
   "outputs": [
    {
     "name": "stdout",
     "output_type": "stream",
     "text": [
      "1 1000.0 5.232176127804646\n",
      "2 999.0 11.528944590898279\n",
      "3 998.0 17.415773903908665\n",
      "4 997.0 27.15806856021565\n",
      "5 996.0 40.91075552009831\n",
      "6 995.0 61.28433213747721\n",
      "7 994.0 79.10555701458813\n",
      "8 993.0 90.92947256798541\n",
      "9 992.0 88.46317911083803\n",
      "10 991.0 76.24496551177357\n",
      "11 990.0 59.524479951240785\n",
      "12 989.0 54.16530563704115\n",
      "13 988.0 48.9796613612939\n",
      "14 987.0 50.10218747522398\n",
      "15 986.0 51.804043942757474\n",
      "16 985.0 49.15365718901134\n",
      "17 984.0 40.06836200745263\n",
      "18 982.0 27.24851219971458\n",
      "19 980.0 17.232945423372712\n",
      "20 978.0 7.941199060493142\n",
      "21 977.0 2.4471415900261633\n",
      "22 975.0 0.7893145960516927\n",
      "23 974.0 0.5600917703956235\n",
      "24 973.0 0.6646837588202648\n",
      "25 972.0 0.7156430864980575\n",
      "26 970.0 0.6043714818044874\n",
      "27 968.0 0.6549926167446286\n",
      "28 967.0 0.6395051236819155\n",
      "29 966.0 0.47148651193213353\n",
      "30 964.0 0.32417817925949416\n",
      "31 962.0 0.3485813248235947\n",
      "32 961.0 0.4560807797510505\n",
      "33 960.0 0.35704605367478\n",
      "34 959.0 0.1172587310711171\n",
      "35 958.0 0.07100560929200032\n",
      "36 0 0.0\n",
      "CPU times: user 21min 8s, sys: 1min 40s, total: 22min 49s\n",
      "Wall time: 22min 51s\n"
     ]
    }
   ],
   "source": [
    "%time V, delta = value_iteration(states)"
   ]
  },
  {
   "cell_type": "code",
   "execution_count": 38,
   "metadata": {},
   "outputs": [
    {
     "name": "stdout",
     "output_type": "stream",
     "text": [
      "h6h8\n",
      "['h6h8', 'h6h7', 'h6g6', 'h6f6', 'h6h5', 'h6h4', 'h6h3', 'h6h2', 'h6h1', 'e6f6', 'e6d6', 'e6f5', 'e6e5', 'e6d5']\n",
      "[1000.0, 990.0, 990.0, 990.0, 996.0, 996.0, 996.0, 996.0, 996.0, 984.0, 986.0, 982.0, 982.0, 982.0]\n",
      "CPU times: user 40.1 s, sys: 3.13 s, total: 43.2 s\n",
      "Wall time: 43.3 s\n"
     ]
    }
   ],
   "source": [
    "%time pi = policy_improve_shortest_path(V, states)"
   ]
  },
  {
   "cell_type": "code",
   "execution_count": 39,
   "metadata": {},
   "outputs": [],
   "source": [
    "np.save('PI_pawn_endgame_value_iter', pi)\n",
    "np.save('V_pawn_endgame_value_iter', V)"
   ]
  },
  {
   "cell_type": "markdown",
   "metadata": {},
   "source": [
    "# Two bishops endgame"
   ]
  },
  {
   "cell_type": "code",
   "execution_count": 40,
   "metadata": {},
   "outputs": [
    {
     "data": {
      "text/plain": [
       "5923016"
      ]
     },
     "execution_count": 40,
     "metadata": {},
     "output_type": "execute_result"
    }
   ],
   "source": [
    "import shelve\n",
    "filename='./data/two_bishops_states_tree/states'\n",
    "states = shelve.open(filename, flag='r')\n",
    "len(states)"
   ]
  },
  {
   "cell_type": "code",
   "execution_count": 41,
   "metadata": {},
   "outputs": [
    {
     "name": "stdout",
     "output_type": "stream",
     "text": [
      "1 1000.0 1.1035902992664548\n",
      "2 999.0 0.27589643519450224\n",
      "3 998.0 1.36986325885326\n",
      "4 997.0 2.8006522352801344\n",
      "5 996.0 3.657171785455248\n",
      "6 995.0 5.337648252174231\n",
      "7 994.0 7.457905229362878\n",
      "8 993.0 10.74546058967256\n",
      "9 992.0 15.409639616033454\n",
      "10 990.0 21.735496746927577\n",
      "11 989.0 31.077902541543025\n",
      "12 988.0 41.917350721321704\n",
      "13 986.0 53.3536792742076\n",
      "14 985.0 66.9991401340128\n",
      "15 984.0 80.96305817846854\n",
      "16 983.0 92.40151841561799\n",
      "17 982.0 101.91697760060077\n",
      "18 981.0 107.28973212295898\n",
      "19 980.0 96.9107824459701\n",
      "20 977.0 68.18849248423439\n",
      "21 976.0 36.75164156233919\n",
      "22 975.0 16.420765704499193\n",
      "23 973.0 5.154635746383262\n",
      "24 972.0 0.7542333162699544\n",
      "25 969.0 0.025971228171593662\n",
      "26 967.0 0.0007204100073341014\n",
      "27 2.0 1.9922282836987104e-05\n",
      "28 2.0 3.376658107963916e-07\n",
      "29 0 0.0\n",
      "CPU times: user 2h 8min 13s, sys: 9min 48s, total: 2h 18min 2s\n",
      "Wall time: 2h 22min 59s\n"
     ]
    }
   ],
   "source": [
    "# CPU times: user 2h 8min 13s, sys: 9min 48s, total: 2h 18min 2s\n",
    "# Wall time: 2h 22min 59s\n",
    "%time V, delta = value_iteration(states)"
   ]
  },
  {
   "cell_type": "code",
   "execution_count": 42,
   "metadata": {},
   "outputs": [
    {
     "name": "stdout",
     "output_type": "stream",
     "text": [
      "CPU times: user 5min 3s, sys: 23.2 s, total: 5min 26s\n",
      "Wall time: 6min 28s\n"
     ]
    }
   ],
   "source": [
    "# CPU times: user 5min 3s, sys: 23.2 s, total: 5min 26s\n",
    "# Wall time: 6min 28s\n",
    "%time pi = policy_improve_shortest_path(V, states)"
   ]
  },
  {
   "cell_type": "code",
   "execution_count": 43,
   "metadata": {},
   "outputs": [],
   "source": [
    "np.save('PI_two_bishops_endgame_value_iter', pi)\n",
    "np.save('V_two_bishops_endgame_value_iter', V)"
   ]
  },
  {
   "cell_type": "markdown",
   "metadata": {},
   "source": [
    "# Knight and Bishop endgame"
   ]
  },
  {
   "cell_type": "code",
   "execution_count": null,
   "metadata": {},
   "outputs": [],
   "source": [
    "import shelve\n",
    "filename='./data/bishop_knight_tree/states'\n",
    "states = shelve.open(filename, flag='r')\n",
    "len(states)"
   ]
  },
  {
   "cell_type": "code",
   "execution_count": null,
   "metadata": {},
   "outputs": [],
   "source": [
    "%time V, delta = value_iteration(states)"
   ]
  },
  {
   "cell_type": "code",
   "execution_count": null,
   "metadata": {},
   "outputs": [],
   "source": [
    "%time pi = policy_improve_shortest_path(V, states)"
   ]
  },
  {
   "cell_type": "code",
   "execution_count": null,
   "metadata": {},
   "outputs": [],
   "source": [
    "np.save('PI_knight_bishop_endgame_value_iter', pi)\n",
    "np.save('V_knight_bishop_endgame_value_iter', V)"
   ]
  },
  {
   "cell_type": "code",
   "execution_count": null,
   "metadata": {},
   "outputs": [],
   "source": []
  }
 ],
 "metadata": {
  "kernelspec": {
   "display_name": "Python 3",
   "language": "python",
   "name": "python3"
  },
  "language_info": {
   "codemirror_mode": {
    "name": "ipython",
    "version": 3
   },
   "file_extension": ".py",
   "mimetype": "text/x-python",
   "name": "python",
   "nbconvert_exporter": "python",
   "pygments_lexer": "ipython3",
   "version": "3.6.8"
  }
 },
 "nbformat": 4,
 "nbformat_minor": 2
}
