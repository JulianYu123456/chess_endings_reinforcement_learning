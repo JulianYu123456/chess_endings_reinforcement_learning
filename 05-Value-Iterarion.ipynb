{
 "cells": [
  {
   "cell_type": "code",
   "execution_count": 1,
   "metadata": {},
   "outputs": [],
   "source": [
    "%load_ext autoreload\n",
    "%autoreload 2"
   ]
  },
  {
   "cell_type": "code",
   "execution_count": 2,
   "metadata": {},
   "outputs": [
    {
     "data": {
      "text/plain": [
       "2983300"
      ]
     },
     "execution_count": 2,
     "metadata": {},
     "output_type": "execute_result"
    }
   ],
   "source": [
    "import shelve\n",
    "filename='./data/two_bishops/states'\n",
    "states = shelve.open(filename, flag='r')\n",
    "len(states)"
   ]
  },
  {
   "cell_type": "code",
   "execution_count": 3,
   "metadata": {},
   "outputs": [],
   "source": [
    "def get_deterministic_policy(states):\n",
    "    pi = {}\n",
    "    for state, value in states.items():\n",
    "        pi[state] = list(value.keys())[0]\n",
    "    return pi"
   ]
  },
  {
   "cell_type": "code",
   "execution_count": 18,
   "metadata": {},
   "outputs": [],
   "source": [
    "from MDP_chess import policy_improve_shortest_path, deterministic_policy_eval_step_shortest_path\n",
    "import numpy as np"
   ]
  },
  {
   "cell_type": "code",
   "execution_count": 19,
   "metadata": {},
   "outputs": [],
   "source": [
    "def value_iteration(states, pi_old, initial_V):\n",
    "    policy_updates = 1\n",
    "    while policy_updates >0:\n",
    "        V, _ = deterministic_policy_eval_step_shortest_path(states, initial_V, pi_old)\n",
    "        pi = policy_improve_shortest_path(V, states)\n",
    "\n",
    "        policy_updates = 0\n",
    "        for j, (state, accion) in enumerate(pi.items()):\n",
    "            if accion != pi_old[state]:\n",
    "                 policy_updates += 1\n",
    "        pi_old = pi.copy()\n",
    "\n",
    "        print('Number of differences of new policy vs old policy:', policy_updates)\n",
    "        print('---------------------------')\n",
    "    return pi_old, V"
   ]
  },
  {
   "cell_type": "code",
   "execution_count": 14,
   "metadata": {},
   "outputs": [],
   "source": [
    "pi_old = get_deterministic_policy(states)\n",
    "initial_V = {state: 0 for state in states.keys()}"
   ]
  },
  {
   "cell_type": "code",
   "execution_count": null,
   "metadata": {},
   "outputs": [
    {
     "name": "stdout",
     "output_type": "stream",
     "text": [
      "Number of differences of new policy vs old policy: 3080\n",
      "---------------------------\n",
      "Number of differences of new policy vs old policy: 2471\n",
      "---------------------------\n",
      "Number of differences of new policy vs old policy: 629\n",
      "---------------------------\n",
      "Number of differences of new policy vs old policy: 2544\n",
      "---------------------------\n",
      "Number of differences of new policy vs old policy: 3537\n",
      "---------------------------\n",
      "Number of differences of new policy vs old policy: 5618\n",
      "---------------------------\n",
      "Number of differences of new policy vs old policy: 7698\n",
      "---------------------------\n",
      "Number of differences of new policy vs old policy: 8288\n",
      "---------------------------\n",
      "Number of differences of new policy vs old policy: 12379\n",
      "---------------------------\n",
      "Number of differences of new policy vs old policy: 15912\n",
      "---------------------------\n"
     ]
    }
   ],
   "source": [
    "%time pi, V = value_iteration(states, pi_old, initial_V)"
   ]
  },
  {
   "cell_type": "code",
   "execution_count": null,
   "metadata": {},
   "outputs": [],
   "source": []
  }
 ],
 "metadata": {
  "kernelspec": {
   "display_name": "Python 3",
   "language": "python",
   "name": "python3"
  },
  "language_info": {
   "codemirror_mode": {
    "name": "ipython",
    "version": 3
   },
   "file_extension": ".py",
   "mimetype": "text/x-python",
   "name": "python",
   "nbconvert_exporter": "python",
   "pygments_lexer": "ipython3",
   "version": "3.6.8"
  }
 },
 "nbformat": 4,
 "nbformat_minor": 2
}
