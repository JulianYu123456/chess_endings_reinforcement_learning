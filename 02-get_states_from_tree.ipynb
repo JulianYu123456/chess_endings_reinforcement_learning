{
 "cells": [
  {
   "cell_type": "code",
   "execution_count": 12,
   "metadata": {},
   "outputs": [
    {
     "name": "stdout",
     "output_type": "stream",
     "text": [
      "The autoreload extension is already loaded. To reload it, use:\n",
      "  %reload_ext autoreload\n"
     ]
    }
   ],
   "source": [
    "%load_ext autoreload\n",
    "%autoreload 2"
   ]
  },
  {
   "cell_type": "code",
   "execution_count": 22,
   "metadata": {},
   "outputs": [],
   "source": [
    "import chess\n",
    "import numpy as np\n",
    "import shelve\n",
    "import os"
   ]
  },
  {
   "cell_type": "code",
   "execution_count": 23,
   "metadata": {},
   "outputs": [],
   "source": [
    "def get_two_bishops_start():\n",
    "    board = chess.Board()\n",
    "    board.clear()\n",
    "    board.set_piece_at(0, chess.Piece(chess.BISHOP, True))\n",
    "    board.set_piece_at(1, chess.Piece(chess.BISHOP, True))\n",
    "    board.set_piece_at(2, chess.Piece(chess.KING, True))\n",
    "    board.set_piece_at(56, chess.Piece(chess.KING, False))\n",
    "    board.turn = True\n",
    "    return board"
   ]
  },
  {
   "cell_type": "code",
   "execution_count": 24,
   "metadata": {},
   "outputs": [],
   "source": [
    "def get_rook_start():\n",
    "    board = chess.Board()\n",
    "    board.clear()\n",
    "    board.set_piece_at(1, chess.Piece(chess.ROOK, True))\n",
    "    board.set_piece_at(2, chess.Piece(chess.KING, True))\n",
    "    board.set_piece_at(60, chess.Piece(chess.KING, False))\n",
    "    board.turn = True\n",
    "    return board"
   ]
  },
  {
   "cell_type": "code",
   "execution_count": 25,
   "metadata": {},
   "outputs": [],
   "source": [
    "def get_state_from_board(board):\n",
    "    state = ' '.join(board.fen().split(' ')[:2])\n",
    "    return state\n",
    "\n",
    "def get_next_state(board, move):\n",
    "    board.push(move)\n",
    "    fen = ' '.join(board.fen().split(' ')[:2])\n",
    "    status = int(board.is_checkmate())\n",
    "    board.pop()\n",
    "    return fen, -status"
   ]
  },
  {
   "cell_type": "code",
   "execution_count": 26,
   "metadata": {},
   "outputs": [],
   "source": [
    "import collections"
   ]
  },
  {
   "cell_type": "code",
   "execution_count": 36,
   "metadata": {},
   "outputs": [],
   "source": [
    "def bfs(board, folder):\n",
    "    state = get_state_from_board(board)\n",
    "    seen = set([])\n",
    "    if not os.path.exists(folder):\n",
    "        os.makedirs(folder)\n",
    "    states = shelve.open(folder+'/states', flag='n', writeback=True) \n",
    "    \n",
    "    queue = collections.deque([state])\n",
    "    while queue:\n",
    "        state = queue.popleft()\n",
    "        board = chess.Board()\n",
    "        fen = state + ' - - 0 1'\n",
    "        board.set_fen(fen)\n",
    "        if board.is_game_over() == 0:\n",
    "            states[state] = {}\n",
    "            for move in board.legal_moves:\n",
    "                action = str(move)\n",
    "                states[state][action] = {}\n",
    "                fen, status = get_next_state(board, move)\n",
    "                states[state][action]['status'] = status\n",
    "                states[state][action]['next_node'] = fen\n",
    "                if fen not in seen:\n",
    "                    seen.add(fen)\n",
    "                    queue.append(fen)\n",
    "        N = len(states)\n",
    "        if N%10000 == 0:\n",
    "            print('\\rstates: {}'.format(N), end='')\n",
    "            states.sync()\n",
    "    print()\n",
    "    states.close()\n",
    "    return states"
   ]
  },
  {
   "cell_type": "code",
   "execution_count": 37,
   "metadata": {},
   "outputs": [
    {
     "name": "stdout",
     "output_type": "stream",
     "text": [
      "states: 390000CPU times: user 4min 29s, sys: 6.71 s, total: 4min 36s\n",
      "Wall time: 4min 36s\n"
     ]
    }
   ],
   "source": [
    "board = get_rook_start()\n",
    "%time _ = bfs(board, './data/rook_states_tree')"
   ]
  },
  {
   "cell_type": "code",
   "execution_count": null,
   "metadata": {},
   "outputs": [
    {
     "name": "stdout",
     "output_type": "stream",
     "text": [
      "states: 1710000"
     ]
    }
   ],
   "source": [
    "board = get_two_bishops_start()\n",
    "%time _ = bfs(board, './data/two_bishopw_states_tree')"
   ]
  },
  {
   "cell_type": "code",
   "execution_count": null,
   "metadata": {},
   "outputs": [],
   "source": []
  }
 ],
 "metadata": {
  "kernelspec": {
   "display_name": "Python 3",
   "language": "python",
   "name": "python3"
  },
  "language_info": {
   "codemirror_mode": {
    "name": "ipython",
    "version": 3
   },
   "file_extension": ".py",
   "mimetype": "text/x-python",
   "name": "python",
   "nbconvert_exporter": "python",
   "pygments_lexer": "ipython3",
   "version": "3.6.8"
  }
 },
 "nbformat": 4,
 "nbformat_minor": 2
}
